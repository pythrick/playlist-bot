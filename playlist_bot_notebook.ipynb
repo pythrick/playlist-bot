{
 "cells": [
  {
   "cell_type": "markdown",
   "metadata": {},
   "source": [
    "# Playlist Bot\n",
    "Bot to create a YouTube playlist based on comments written by people in this Instagram post containing the name of several songs that always hit people right in the feels"
   ]
  },
  {
   "cell_type": "markdown",
   "metadata": {},
   "source": [
    "## Setting `src` directory as project root path"
   ]
  },
  {
   "cell_type": "code",
   "execution_count": null,
   "metadata": {},
   "outputs": [],
   "source": [
    "import os\n",
    "import sys\n",
    "\n",
    "os.chdir(os.path.join(sys.path[0], 'src'))"
   ]
  },
  {
   "cell_type": "markdown",
   "metadata": {},
   "source": [
    "## Importing comments"
   ]
  },
  {
   "cell_type": "code",
   "execution_count": 19,
   "metadata": {},
   "outputs": [
    {
     "data": {
      "text/plain": [
       "5000"
      ]
     },
     "execution_count": 19,
     "metadata": {},
     "output_type": "execute_result"
    }
   ],
   "source": [
    "from services import InstagramService\n",
    "\n",
    "instagram_service = InstagramService()\n",
    "\n",
    "comments = instagram_service.list_comments(\"B0W4E7LAzlQ\", max_comments=5000)\n",
    "\n",
    "len(comments)"
   ]
  },
  {
   "cell_type": "markdown",
   "metadata": {},
   "source": [
    "## Writing comments to file"
   ]
  },
  {
   "cell_type": "code",
   "execution_count": 20,
   "metadata": {},
   "outputs": [],
   "source": [
    "with open(\"full_dataset.csv\", \"w+\") as source:\n",
    "    for comment in comments:\n",
    "        source.write(f\"{comment}\\n\")"
   ]
  },
  {
   "cell_type": "markdown",
   "metadata": {},
   "source": [
    "## Normalizing song titles"
   ]
  },
  {
   "cell_type": "code",
   "execution_count": 33,
   "metadata": {},
   "outputs": [
    {
     "data": {
      "text/plain": [
       "4577"
      ]
     },
     "execution_count": 33,
     "metadata": {},
     "output_type": "execute_result"
    }
   ],
   "source": [
    "from utils import normalizer\n",
    "\n",
    "with open(\"full_dataset.csv\") as source:\n",
    "    songs_titles = [x.strip() for x in source.readlines()]\n",
    "songs_titles = [normalizer.normalize_string(x) for x in songs_titles]\n",
    "songs_titles = [x for x in songs_titles if x]\n",
    "len(songs_titles)"
   ]
  },
  {
   "cell_type": "markdown",
   "metadata": {},
   "source": [
    "## Grouping song titles"
   ]
  },
  {
   "cell_type": "code",
   "execution_count": null,
   "metadata": {},
   "outputs": [],
   "source": [
    "groups_list = []\n",
    "for i_x, x in enumerate(songs_titles):\n",
    "    same_song_list = []\n",
    "    for i_y, y in enumerate(songs_titles):\n",
    "        if i_x == i_y:\n",
    "            continue\n",
    "        if normalizer.same_title(x, y):\n",
    "            same_song_list.append(y)\n",
    "    groups_list.append(same_song_list)\n",
    "print(groups_list)"
   ]
  },
  {
   "cell_type": "code",
   "execution_count": null,
   "metadata": {},
   "outputs": [],
   "source": []
  }
 ],
 "metadata": {
  "kernelspec": {
   "display_name": "Python 3",
   "language": "python",
   "name": "python3"
  },
  "language_info": {
   "codemirror_mode": {
    "name": "ipython",
    "version": 3
   },
   "file_extension": ".py",
   "mimetype": "text/x-python",
   "name": "python",
   "nbconvert_exporter": "python",
   "pygments_lexer": "ipython3",
   "version": "3.7.3"
  }
 },
 "nbformat": 4,
 "nbformat_minor": 2
}
